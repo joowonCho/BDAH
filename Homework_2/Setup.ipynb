{
 "cells": [
  {
   "cell_type": "markdown",
   "metadata": {},
   "source": [
    "# GitHub"
   ]
  },
  {
   "cell_type": "markdown",
   "metadata": {
    "collapsed": true
   },
   "source": [
    "1. Setup Git: https://help.github.com/articles/set-up-git/#platform-mac\n",
    "2. Fork My Repository\n",
    "    1. GitHub instructions on Forking: https://help.github.com/articles/fork-a-repo/\n",
    "    2. My Repository: "
   ]
  },
  {
   "cell_type": "markdown",
   "metadata": {},
   "source": [
    "# PostgreSQL Installation\n",
    "1. Mac: http://postgresapp.com/\n",
    "2. Other Systems: http://www.postgresql.org/download/"
   ]
  },
  {
   "cell_type": "markdown",
   "metadata": {},
   "source": [
    "# Creating a Database\n",
    "1. Create database: http://www.postgresql.org/docs/9.0/static/sql-createdatabase.html\n",
    "2. Create table: http://www.postgresql.org/docs/9.1/static/sql-createtable.html\n",
    "3. Schemas: http://www.postgresql.org/docs/8.2/static/ddl-schemas.html\n",
    "4. The COPY command: http://www.postgresql.org/docs/9.1/static/sql-copy.html\n",
    "5. How to run files: http://blog.manoharbhattarai.com.np/2013/04/03/execute-sql-file-from-command-line-in-postgresql/"
   ]
  },
  {
   "cell_type": "markdown",
   "metadata": {},
   "source": [
    "# Achilles\n",
    "1. Download CMS 1k Sample: http://www.ltscomputingllc.com/downloads/\n",
    "2. Common data model: https://github.com/OHDSI/CommonDataModel\n",
    "3. Before creating indexes and constraints, create vocabulary (this takes time):\n",
    "    1. http://www.ohdsi.org/web/athena/\n",
    "    2. Copy scripts can be found in the common data model source code in PostgreSQL/VocabImport\n",
    "4. Create constraints and indexes\n",
    "5. Achilles: https://github.com/OHDSI/Achilles\n",
    "    1. Use cdmVersion = '5' and smallcellcount = 1 in the achilles R command\n",
    "    2. Make sure pointing to schemas (public is default)\n",
    "6. Achilles Web: https://github.com/OHDSI/AchillesWeb\n",
    "7. Python SimpleHTTPServer: http://www.linuxjournal.com/content/tech-tip-really-simple-http-server-python "
   ]
  },
  {
   "cell_type": "markdown",
   "metadata": {},
   "source": [
    "# Javascript"
   ]
  },
  {
   "cell_type": "code",
   "execution_count": null,
   "metadata": {
    "collapsed": true
   },
   "outputs": [],
   "source": []
  }
 ],
 "metadata": {
  "kernelspec": {
   "display_name": "Python 2",
   "language": "python",
   "name": "python2"
  },
  "language_info": {
   "codemirror_mode": {
    "name": "ipython",
    "version": 2
   },
   "file_extension": ".py",
   "mimetype": "text/x-python",
   "name": "python",
   "nbconvert_exporter": "python",
   "pygments_lexer": "ipython2",
   "version": "2.7.10"
  }
 },
 "nbformat": 4,
 "nbformat_minor": 0
}
